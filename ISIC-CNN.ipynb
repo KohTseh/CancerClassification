{
 "cells": [
  {
   "cell_type": "code",
   "execution_count": 1,
   "metadata": {},
   "outputs": [],
   "source": [
    "# imports\n",
    "import glob, os, json\n",
    "\n",
    "import numpy as np\n",
    "import pandas as pd\n",
    "import matplotlib.pyplot as plt\n",
    "%matplotlib inline\n",
    "\n",
    "# imaging library\n",
    "# run `pip install Pillow` if ModuleNotFoundError\n",
    "from PIL import Image \n",
    "from sklearn.model_selection import train_test_split\n",
    "\n",
    "import tensorflow as tf\n",
    "tf.logging.set_verbosity(tf.logging.INFO)"
   ]
  },
  {
   "cell_type": "markdown",
   "metadata": {},
   "source": [
    "# build dataset\n",
    "- images are from ISIC-images\n",
    "- images are resised using PIL to 28x28\n",
    "    - 300 images"
   ]
  },
  {
   "cell_type": "code",
   "execution_count": 173,
   "metadata": {},
   "outputs": [],
   "source": [
    "def build_dataset():\n",
    "    img_filenames = []\n",
    "    labels = []\n",
    "    counter = 0\n",
    "\n",
    "    D = []\n",
    "    for fname in glob.glob(\"ISIC-images/*/*.jpg\", recursive=True):\n",
    "        (img_id, ext) = os.path.splitext(fname)\n",
    "        with open(os.path.join(img_id)+\".json\") as f:    \n",
    "            metadata = json.load(f)\n",
    "            lab = metadata[\"meta\"][\"clinical\"][\"benign_malignant\"]\n",
    "        \n",
    "        # resize image\n",
    "        im = Image.open(fname)\n",
    "        im = im.resize((28,28))\n",
    "        \n",
    "        # cheat to ensure classes are balanced\n",
    "        if counter < 50 and lab!=\"malignant\":\n",
    "            continue\n",
    "        if 50<counter<100 and lab!=\"benign\":\n",
    "            continue\n",
    "\n",
    "        img_filenames.append(fname)\n",
    "        labels.append(1 if lab==\"malignant\" else 0)\n",
    "\n",
    "        im = np.asarray(im)\n",
    "        im = np.reshape(im,(28*28,3))\n",
    "        D.append(im)\n",
    "\n",
    "        # read only 300 images\n",
    "        counter +=1\n",
    "        if counter == 300: break\n",
    "    return (np.asarray(D,dtype=np.float32), np.asarray(labels, dtype=np.int32))"
   ]
  },
  {
   "cell_type": "code",
   "execution_count": 174,
   "metadata": {},
   "outputs": [],
   "source": [
    "def cnn_model_fn(features, labels, mode):\n",
    "    \"\"\"Model function for CNN.\"\"\"\n",
    "    # Input Layer with shape [batch_size, image_width, image_height, channels]\n",
    "    # -1 for batch size ==> dynamically computed based on input values\n",
    "    # 28,28 for img width and height\n",
    "    # 1 channel (monochrome)\n",
    "    input_layer = tf.reshape(features[\"x\"], [-1, 28, 28, 3])\n",
    "\n",
    "    # Convolutional Layer #1\n",
    "    # Applies 32 5x5 filters (extracting 5x5-pixel subregions), with ReLU activation function\n",
    "    conv1 = tf.layers.conv2d(\n",
    "            inputs=input_layer,\n",
    "            filters=32,\n",
    "            kernel_size=[5, 5],\n",
    "            padding=\"same\",\n",
    "            activation=tf.nn.relu)\n",
    "\n",
    "    # Pooling Layer #1\n",
    "    # Performs max pooling with a 2x2 filter and stride of 2\n",
    "    # pool regions do not overlap\n",
    "    pool1 = tf.layers.max_pooling2d(inputs=conv1, pool_size=[2, 2], strides=2)\n",
    "\n",
    "    # Convolutional Layer #2 and Pooling Layer #2\n",
    "    # Applies 64 5x5 filters, with ReLU activation function\n",
    "    conv2 = tf.layers.conv2d(\n",
    "            inputs=pool1,\n",
    "            filters=64,\n",
    "            kernel_size=[5, 5],\n",
    "            padding=\"same\",\n",
    "            activation=tf.nn.relu)\n",
    "    # conv2 shape: [batchsize, 14, 14, 64]\n",
    "    # max pooling with a 2x2 filter and stride of 2\n",
    "    pool2 = tf.layers.max_pooling2d(inputs=conv2, pool_size=[2, 2], strides=2)\n",
    "\n",
    "    # Dense Layer (same as fully connected)\n",
    "    # pool2 width and pool2 height = 7\n",
    "    # pool2 channels = 64\n",
    "    pool2_flat = tf.reshape(pool2, [-1, 7 * 7 * 64])\n",
    "    # 1024 units, ReLU activation\n",
    "    dense = tf.layers.dense(inputs=pool2_flat, units=1024, activation=tf.nn.relu)\n",
    "    # dropout layer has shape [batch_size, 1024]\n",
    "    # dropout = tf.layers.dropout(\n",
    "    #         inputs=dense, rate=0.4, training=mode == tf.estimator.ModeKeys.TRAIN)\n",
    "\n",
    "    # Logits Layer\n",
    "    # 10 units, one for each digit target class (0–9).\n",
    "    logits = tf.layers.dense(inputs=dense, units=2)\n",
    "\n",
    "    predictions = {\n",
    "            # Generate predictions (for PREDICT and EVAL mode)\n",
    "            \"classes\": tf.argmax(input=logits, axis=1),\n",
    "            # Add `softmax_tensor` to the graph. It is used for PREDICT and by the\n",
    "            # `logging_hook`.\n",
    "            \"probabilities\": tf.nn.softmax(logits, name=\"softmax_tensor\")\n",
    "    }\n",
    "\n",
    "    if mode == tf.estimator.ModeKeys.PREDICT:\n",
    "        return tf.estimator.EstimatorSpec(mode=mode, predictions=predictions)\n",
    "\n",
    "    # Calculate Loss (for both TRAIN and EVAL modes)\n",
    "    loss = tf.losses.sparse_softmax_cross_entropy(labels=labels, logits=logits)\n",
    "\n",
    "    # Configure the Training Op (for TRAIN mode)\n",
    "    if mode == tf.estimator.ModeKeys.TRAIN:\n",
    "        optimizer = tf.train.GradientDescentOptimizer(learning_rate=0.001)\n",
    "        train_op = optimizer.minimize(\n",
    "                loss=loss,\n",
    "                global_step=tf.train.get_global_step())\n",
    "        return tf.estimator.EstimatorSpec(mode=mode, loss=loss, train_op=train_op)\n",
    "\n",
    "    # Add evaluation metrics (for EVAL mode)\n",
    "    eval_metric_ops = {\n",
    "            \"accuracy\": tf.metrics.accuracy(\n",
    "                    labels=labels, predictions=predictions[\"classes\"])}\n",
    "    return tf.estimator.EstimatorSpec(\n",
    "            mode=mode, loss=loss, eval_metric_ops=eval_metric_ops)"
   ]
  },
  {
   "cell_type": "markdown",
   "metadata": {},
   "source": [
    "## `main()`\n",
    "\n",
    "- loads training data into `mnist_classifier`, starts training\n",
    "- once training is done, it evaluates model, and prints results"
   ]
  },
  {
   "cell_type": "code",
   "execution_count": 175,
   "metadata": {},
   "outputs": [],
   "source": [
    "def main():\n",
    "    # Load training and eval data\n",
    "    D, labels = build_dataset()\n",
    "    X_train, X_test, y_train, y_test = train_test_split(D, labels)\n",
    "    \n",
    "\n",
    "    # actual training of model\n",
    "    train_input_fn = tf.estimator.inputs.numpy_input_fn(\n",
    "        x={\"x\": X_train}, # shape (N, w*d)\n",
    "        y=y_train, # shape\n",
    "        batch_size=10,\n",
    "        num_epochs=2, # num of epochs to iterate over data. If `None` will run forever.\n",
    "        shuffle=True)\n",
    "    cs3244_classifier.train(\n",
    "        input_fn=train_input_fn,\n",
    "        steps=None, # train until input_fn stops\n",
    "        hooks=[logging_hook])\n",
    "    \n",
    "    # Evaluate the model and print results\n",
    "    eval_input_fn = tf.estimator.inputs.numpy_input_fn(\n",
    "        x={\"x\": X_test},\n",
    "        y=y_test,\n",
    "        num_epochs=1,\n",
    "        shuffle=False)\n",
    "    eval_results = cs3244_classifier.evaluate(input_fn=eval_input_fn)\n",
    "    print(eval_results)\n",
    "    "
   ]
  },
  {
   "cell_type": "code",
   "execution_count": 176,
   "metadata": {},
   "outputs": [
    {
     "name": "stdout",
     "output_type": "stream",
     "text": [
      "INFO:tensorflow:Using default config.\n",
      "INFO:tensorflow:Using config: {'_model_dir': '/tmp/mnist_convnet_model', '_tf_random_seed': None, '_save_summary_steps': 100, '_save_checkpoints_steps': None, '_save_checkpoints_secs': 600, '_session_config': None, '_keep_checkpoint_max': 5, '_keep_checkpoint_every_n_hours': 10000, '_log_step_count_steps': 100, '_service': None, '_cluster_spec': <tensorflow.python.training.server_lib.ClusterSpec object at 0x22b1d4a20>, '_task_type': 'worker', '_task_id': 0, '_global_id_in_cluster': 0, '_master': '', '_evaluation_master': '', '_is_chief': True, '_num_ps_replicas': 0, '_num_worker_replicas': 1}\n"
     ]
    }
   ],
   "source": [
    "# Create the Estimator\n",
    "cs3244_classifier = tf.estimator.Estimator(\n",
    "    model_fn=cnn_model_fn, model_dir=\"/tmp/mnist_convnet_model\")"
   ]
  },
  {
   "cell_type": "code",
   "execution_count": 177,
   "metadata": {},
   "outputs": [],
   "source": [
    "# Set up logging for predictions\n",
    "# uncomment to log probabilities\n",
    "# tensors_to_log = {\"probabilities\": \"softmax_tensor\"}\n",
    "tensors_to_log = {}\n",
    "logging_hook = tf.train.LoggingTensorHook(\n",
    "    tensors=tensors_to_log, every_n_iter=50)"
   ]
  },
  {
   "cell_type": "markdown",
   "metadata": {},
   "source": [
    "# Run the below line to train and evaluate model"
   ]
  },
  {
   "cell_type": "code",
   "execution_count": 172,
   "metadata": {},
   "outputs": [
    {
     "name": "stdout",
     "output_type": "stream",
     "text": [
      "INFO:tensorflow:Calling model_fn.\n",
      "INFO:tensorflow:Done calling model_fn.\n",
      "INFO:tensorflow:Create CheckpointSaverHook.\n",
      "INFO:tensorflow:Graph was finalized.\n",
      "INFO:tensorflow:Restoring parameters from /tmp/mnist_convnet_model/model.ckpt-1559\n",
      "INFO:tensorflow:Running local_init_op.\n",
      "INFO:tensorflow:Done running local_init_op.\n",
      "INFO:tensorflow:Saving checkpoints for 1560 into /tmp/mnist_convnet_model/model.ckpt.\n",
      "INFO:tensorflow:\n",
      "INFO:tensorflow:loss = 0.7100334, step = 1560\n",
      "INFO:tensorflow:Saving checkpoints for 1574 into /tmp/mnist_convnet_model/model.ckpt.\n",
      "INFO:tensorflow:Loss for final step: 0.693677.\n",
      "INFO:tensorflow:Calling model_fn.\n",
      "INFO:tensorflow:Done calling model_fn.\n",
      "INFO:tensorflow:Starting evaluation at 2018-04-01-14:19:02\n",
      "INFO:tensorflow:Graph was finalized.\n",
      "INFO:tensorflow:Restoring parameters from /tmp/mnist_convnet_model/model.ckpt-1574\n",
      "INFO:tensorflow:Running local_init_op.\n",
      "INFO:tensorflow:Done running local_init_op.\n",
      "INFO:tensorflow:Finished evaluation at 2018-04-01-14:19:02\n",
      "INFO:tensorflow:Saving dict for global step 1574: accuracy = 0.6, global_step = 1574, loss = 0.68719405\n",
      "{'accuracy': 0.6, 'loss': 0.68719405, 'global_step': 1574}\n"
     ]
    }
   ],
   "source": [
    "main()"
   ]
  }
 ],
 "metadata": {
  "kernelspec": {
   "display_name": "Python 3",
   "language": "python",
   "name": "python3"
  },
  "language_info": {
   "codemirror_mode": {
    "name": "ipython",
    "version": 3
   },
   "file_extension": ".py",
   "mimetype": "text/x-python",
   "name": "python",
   "nbconvert_exporter": "python",
   "pygments_lexer": "ipython3",
   "version": "3.6.0"
  }
 },
 "nbformat": 4,
 "nbformat_minor": 2
}
